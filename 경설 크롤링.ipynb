{
 "cells": [
  {
   "cell_type": "code",
   "execution_count": 27,
   "metadata": {
    "scrolled": true
   },
   "outputs": [
    {
     "name": "stderr",
     "output_type": "stream",
     "text": [
      "C:\\Users\\dlwnd.LAPTOP-GJ21HGND\\AppData\\Local\\Continuum\\anaconda3\\lib\\site-packages\\ipykernel_launcher.py:22: DeprecationWarning: executable_path has been deprecated, please pass in a Service object\n",
      "C:\\Users\\dlwnd.LAPTOP-GJ21HGND\\AppData\\Local\\Continuum\\anaconda3\\lib\\site-packages\\ipykernel_launcher.py:27: DeprecationWarning: find_element_by_* commands are deprecated. Please use find_element() instead\n",
      "C:\\Users\\dlwnd.LAPTOP-GJ21HGND\\AppData\\Local\\Continuum\\anaconda3\\lib\\site-packages\\ipykernel_launcher.py:28: DeprecationWarning: find_element_by_* commands are deprecated. Please use find_element() instead\n",
      "C:\\Users\\dlwnd.LAPTOP-GJ21HGND\\AppData\\Local\\Continuum\\anaconda3\\lib\\site-packages\\ipykernel_launcher.py:29: DeprecationWarning: find_element_by_* commands are deprecated. Please use find_element() instead\n"
     ]
    },
    {
     "name": "stdout",
     "output_type": "stream",
     "text": [
      "경고창이 없네용\n"
     ]
    },
    {
     "name": "stderr",
     "output_type": "stream",
     "text": [
      "C:\\Users\\dlwnd.LAPTOP-GJ21HGND\\AppData\\Local\\Continuum\\anaconda3\\lib\\site-packages\\ipykernel_launcher.py:41: DeprecationWarning: find_element_by_* commands are deprecated. Please use find_element() instead\n",
      "C:\\Users\\dlwnd.LAPTOP-GJ21HGND\\AppData\\Local\\Continuum\\anaconda3\\lib\\site-packages\\ipykernel_launcher.py:45: DeprecationWarning: find_element_by_* commands are deprecated. Please use find_element() instead\n",
      "C:\\Users\\dlwnd.LAPTOP-GJ21HGND\\AppData\\Local\\Continuum\\anaconda3\\lib\\site-packages\\ipykernel_launcher.py:51: DeprecationWarning: find_element_by_* commands are deprecated. Please use find_element() instead\n",
      "C:\\Users\\dlwnd.LAPTOP-GJ21HGND\\AppData\\Local\\Continuum\\anaconda3\\lib\\site-packages\\ipykernel_launcher.py:108: DeprecationWarning: find_element_by_* commands are deprecated. Please use find_element() instead\n"
     ]
    },
    {
     "name": "stdout",
     "output_type": "stream",
     "text": [
      "\n"
     ]
    }
   ],
   "source": [
    "#실행하고 마지막에 input으로 csv이름 넣으면 됨.\n",
    "from selenium import webdriver\n",
    "from webdriver_manager.chrome import ChromeDriverManager\n",
    "from selenium.webdriver import ActionChains\n",
    "import time\n",
    "\n",
    "from selenium.webdriver.common.keys import Keys\n",
    "from selenium.webdriver.common.by import By\n",
    "\n",
    "from selenium.webdriver.support import expected_conditions as EC\n",
    "from selenium.webdriver.support.ui import Select\n",
    "from selenium.webdriver.support.ui import WebDriverWait\n",
    "from bs4 import BeautifulSoup as bs\n",
    "import pandas as pd\n",
    "\n",
    "#크롬창 보기 싫으면 주석 해제하셈(webdriver.Chrome 옵션까지 해제해야함)\n",
    "#webdriver_options = webdriver.ChromeOptions()\n",
    "#webdriver_options .add_argument('headless')\n",
    "\n",
    "#url 및 웹드라이버 설정\n",
    "URL = 'https://eclass2.ajou.ac.kr/webapps/discussionboard/do/message?action=list_messages&course_id=_52212_1&nav=discussion_board&conf_id=_58228_1&forum_id=_57761_1&message_id=_'\n",
    "driver = webdriver.Chrome(executable_path='C:/Users/dlwnd.LAPTOP-GJ21HGND/chromedriver.exe') #, options = webdriver_options)\n",
    "driver.get(url = URL)\n",
    "\n",
    "# 로그인\n",
    "driver.implicitly_wait(time_to_wait = 5)\n",
    "driver.find_element_by_id('userId').send_keys(\'아이디')\n",
    "driver.find_element_by_id('password').send_keys('비밀번호')\n",
    "driver.find_element_by_id('loginSubmit').click()\n",
    "\n",
    "# 기존 사용 중지 후 로그인 알림창 넘어가기\n",
    "try:\n",
    "    WebDriverWait(driver, 3).until(EC.alert_is_present())\n",
    "    alert = driver.switch_to.alert\n",
    "    alert.accept()\n",
    "except:\n",
    "    print(\"경고창이 없네용\")\n",
    "\n",
    "# Q & A 까지 들어가기\n",
    "driver.implicitly_wait(time_to_wait = 10)\n",
    "driver.find_element_by_id('course-link-_71737_1').click()\n",
    "driver.implicitly_wait(time_to_wait = 5)\n",
    "driver.get(\"https://eclass2.ajou.ac.kr/webapps/discussionboard/do/forum?action=list_threads&course_id=_71737_1&forum_id=88237&nav=discussion_board&conf_id=_83802_1&mode=view\")\n",
    "driver.implicitly_wait(time_to_wait = 5)\n",
    "driver.find_element_by_id(\"listContainer_row:0\")\n",
    "driver.implicitly_wait(time_to_wait = 5)\n",
    "\n",
    "#Q&A의 맨 윗 사람으로 들어가기\n",
    "try:\n",
    "    #읽었을 때\n",
    "    path = driver.find_element_by_xpath(\"//*[@id='listContainer_row:0']/th/a\")\n",
    "except:\n",
    "    #안읽었을 때\n",
    "    path = driver.find_element_by_xpath(\"//*[@id='listContainer_row:0']/th/span[1]/a\")\n",
    "\n",
    "#하이퍼링크 태그 파싱 후 진입\n",
    "href = path.get_attribute('href')\n",
    "driver.get(href)\n",
    "\n",
    "#페이지 스크롤 후 기다리는 작업(잘 못긁어와서 한번 더.)\n",
    "for _ in range(2):\n",
    "    last_height = driver.execute_script(\"return document.body.scrollHeight\")\n",
    "\n",
    "    while True:\n",
    "        # 끝까지 스크롤 다운\n",
    "        driver.execute_script(\"window.scrollTo(0, document.body.scrollHeight);\")\n",
    "\n",
    "        time.sleep(2)\n",
    "\n",
    "        # 스크롤 다운 후 스크롤 높이 다시 가져옴\n",
    "        new_height = driver.execute_script(\"return document.body.scrollHeight\")\n",
    "        if new_height == last_height:\n",
    "            break\n",
    "        last_height = new_height\n",
    "\n",
    "    for i in range(0, last_height, 100):\n",
    "        driver.execute_script(\"window.scrollTo(0, {})\".format(i))\n",
    "        time.sleep(0.25)\n",
    "    \n",
    "\n",
    "#html파싱\n",
    "driver.implicitly_wait(time_to_wait = 20)\n",
    "html = driver.page_source\n",
    "soup = bs(html, 'html.parser')\n",
    "\n",
    "#이름, 질문을 리스트로 저장\n",
    "name = []\n",
    "story = []\n",
    "#개수 찾기 귀찮아서 그냥 except로 오류처리함\n",
    "for i in range(2, 50):\n",
    "    try:\n",
    "        name.append(driver.find_element_by_xpath(\"/html/body/div[2]/div[3]/div/div/div/div/div[4]/div[2]/div/div[%d]/div/div/div[2]/div[1]/div[1]/div[2]/span[1]/span\" %(i)).text)\n",
    "    except:\n",
    "        break\n",
    "\n",
    "for i in range(1, 100):\n",
    "    try:\n",
    "        story.append(soup.find_all(class_ = 'vtbegenerated')[i].get_text().strip(\"\\n\"))         \n",
    "    except:\n",
    "        break\n",
    "\n",
    "#데이터 프레임 변환 후 csv로 추출\n",
    "df = pd.DataFrame(story, name)\n",
    "speaker = input()\n",
    "df.to_csv(\"C:/Users/dlwnd.LAPTOP-GJ21HGND/OneDrive/바탕 화면/3-2/경력설계1 조교/%s.csv\" %(speaker), encoding=\"utf-8-sig\")"
   ]
  }
 ],
 "metadata": {
  "kernelspec": {
   "display_name": "Python 3",
   "language": "python",
   "name": "python3"
  },
  "language_info": {
   "codemirror_mode": {
    "name": "ipython",
    "version": 3
   },
   "file_extension": ".py",
   "mimetype": "text/x-python",
   "name": "python",
   "nbconvert_exporter": "python",
   "pygments_lexer": "ipython3",
   "version": "3.7.3"
  }
 },
 "nbformat": 4,
 "nbformat_minor": 2
}
